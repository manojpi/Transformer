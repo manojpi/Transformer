{
 "cells": [
  {
   "cell_type": "code",
   "execution_count": 1,
   "metadata": {},
   "outputs": [],
   "source": [
    "import torch\n",
    "import torch.nn as nn\n",
    "import torch.nn.functional as F"
   ]
  },
  {
   "cell_type": "code",
   "execution_count": 2,
   "metadata": {},
   "outputs": [],
   "source": [
    "batch_size = 12\n",
    "context_length = 36\n",
    "embedding_dim = 72\n",
    "num_heads = 6\n",
    "head_dim = embedding_dim // num_heads\n",
    "num_layers = 6\n",
    "dropout=0.2"
   ]
  },
  {
   "cell_type": "code",
   "execution_count": 3,
   "metadata": {},
   "outputs": [],
   "source": [
    "class Head(nn.Module):\n",
    "\n",
    "    def __init__(self, head_dim, mask=False):\n",
    "        super().__init__()\n",
    "\n",
    "        self.key = nn.Linear(embedding_dim, head_dim, bias=False)\n",
    "        self.query = nn.Linear(embedding_dim, head_dim, bias=False)\n",
    "        self.value = nn.Linear(embedding_dim, head_dim, bias=False)\n",
    "        self.mask = mask\n",
    "        if self.mask:\n",
    "            self.register('tril', torch.tril(torch.ones(context_length, context_length)))\n",
    "    \n",
    "    def forward(self, embeddings):\n",
    "\n",
    "        B, T, C = embeddings.shape\n",
    "\n",
    "        key = self.key(embeddings) # (B, T, C)\n",
    "        query = self.query(embeddings) # (B, T, C)\n",
    "\n",
    "        # compute the weigts or scores\n",
    "        wei = query @ key.transpose(-2, -1) * C**-0.5 # (B, T, T)\n",
    "        if self.mask:\n",
    "            wei = wei.masked_fill(self.tril[:T, :T] == 0, float(\"-inf\")) # (B, T, T)\n",
    "        \n",
    "        wei = F.softmax(wei, dim=-1)\n",
    "\n",
    "        value = self.value(embeddings) # (B, T, C)\n",
    "        output = wei @ value # (B, T, T) * (B, T, C) -> (B, T, C)\n",
    "\n",
    "        return output"
   ]
  },
  {
   "cell_type": "code",
   "execution_count": null,
   "metadata": {},
   "outputs": [],
   "source": [
    "class MultiHeadAttention(nn.Module):\n",
    "\n",
    "    def __init__(self, num_heads, head_dim, mask):\n",
    "        super().__init__()\n",
    "\n",
    "        self.heads = nn.ModuleList([Head(head_dim, mask) for _ in range(num_heads)])\n",
    "        self.proj = nn.Linear(embedding_dim, embedding_dim)\n",
    "        self.dropout = nn.Dropout(dropout)\n",
    "    \n",
    "    def forward(self, embeddings):\n",
    "\n",
    "        output = torch.concat([head(embeddings) for head in self.heads], dim=-1) # concat along last dimension b/c the original embedding_dim is divided into n_heads times, each of size head_dim\n",
    "        output = self.dropout(self.proj(output))\n",
    "\n",
    "        return output"
   ]
  }
 ],
 "metadata": {
  "kernelspec": {
   "display_name": "nlp-fall",
   "language": "python",
   "name": "python3"
  },
  "language_info": {
   "codemirror_mode": {
    "name": "ipython",
    "version": 3
   },
   "file_extension": ".py",
   "mimetype": "text/x-python",
   "name": "python",
   "nbconvert_exporter": "python",
   "pygments_lexer": "ipython3",
   "version": "3.12.2"
  }
 },
 "nbformat": 4,
 "nbformat_minor": 2
}
